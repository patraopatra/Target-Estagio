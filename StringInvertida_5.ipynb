{
 "cells": [
  {
   "cell_type": "code",
   "execution_count": 79,
   "id": "e700ddd9-c521-44b1-b989-08bb98ea7698",
   "metadata": {},
   "outputs": [],
   "source": [
    "# Defina a String\n",
    "string = \"bora galera\""
   ]
  },
  {
   "cell_type": "code",
   "execution_count": 80,
   "id": "b49bacb8-6996-40ff-8bff-50646936c8d0",
   "metadata": {},
   "outputs": [],
   "source": [
    "# Definindo o tamanho da string\n",
    "tamanho = len(string)"
   ]
  },
  {
   "cell_type": "code",
   "execution_count": 81,
   "id": "d61981cb-3a64-41aa-94f4-e4d3737e5121",
   "metadata": {},
   "outputs": [],
   "source": [
    "# Invertendo a string\n",
    "nova_string = []\n",
    "while tamanho > 0 :\n",
    "    nova_string += string[tamanho - 1]\n",
    "    tamanho = tamanho - 1\n",
    "    \n",
    "# Concatenando os caracteres (já que no processo de inversão, eles agora são uma lista, não uma string)\n",
    "nova_string = \"\".join(nova_string)"
   ]
  },
  {
   "cell_type": "code",
   "execution_count": 82,
   "id": "16637f90-a34d-4244-b30a-2c2a077e8fab",
   "metadata": {},
   "outputs": [
    {
     "name": "stdout",
     "output_type": "stream",
     "text": [
      "arelag arob\n"
     ]
    }
   ],
   "source": [
    "# Resultados\n",
    "print(nova_string)"
   ]
  },
  {
   "cell_type": "code",
   "execution_count": null,
   "id": "511100d8-f0a9-4edb-b6c6-fc549e768d1e",
   "metadata": {},
   "outputs": [],
   "source": []
  }
 ],
 "metadata": {
  "kernelspec": {
   "display_name": "Python 3 (ipykernel)",
   "language": "python",
   "name": "python3"
  },
  "language_info": {
   "codemirror_mode": {
    "name": "ipython",
    "version": 3
   },
   "file_extension": ".py",
   "mimetype": "text/x-python",
   "name": "python",
   "nbconvert_exporter": "python",
   "pygments_lexer": "ipython3",
   "version": "3.9.12"
  }
 },
 "nbformat": 4,
 "nbformat_minor": 5
}
