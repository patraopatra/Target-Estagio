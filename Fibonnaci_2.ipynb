{
 "cells": [
  {
   "cell_type": "code",
   "execution_count": 1,
   "id": "3c8f3f22-57b0-4b7e-839d-f0e13d459ccc",
   "metadata": {},
   "outputs": [
    {
     "name": "stdout",
     "output_type": "stream",
     "text": [
      "Número desejado: 2\n"
     ]
    }
   ],
   "source": [
    "# Substitua aqui com o número desejado:\n",
    "var_num = 2\n",
    "print(\"Número desejado:\",var_num)"
   ]
  },
  {
   "cell_type": "code",
   "execution_count": 2,
   "id": "192429f4-f433-443b-bff7-851233039d80",
   "metadata": {},
   "outputs": [
    {
     "name": "stdout",
     "output_type": "stream",
     "text": [
      "O número escolhido pertence à sequência de Fibonacci.\n"
     ]
    }
   ],
   "source": [
    "# Iniciais de Fibonacci\n",
    "penultimo = 0\n",
    "ultimo = 1\n",
    "fibo = 1\n",
    "\n",
    "\"\"\"# Caso queira visualizar a sequência, apague esse comentário e as duas aspas triplas\n",
    "print(\"0\")\n",
    "print(fibo)\n",
    "\"\"\"\n",
    "# Para evitar cálculos desnecessários, calculamos a sequência até perto do número desejado\n",
    "\n",
    "while fibo < var_num :\n",
    "    fibo = ultimo + penultimo\n",
    "    penultimo = ultimo\n",
    "    ultimo = fibo\n",
    "    \"\"\"# Caso queira visualizar a sequência, apague esse comentário e as duas aspas triplas\n",
    "    print(fibo)\n",
    "    \"\"\"\n",
    "    # Se o número for igual à algum da sequência, a mensagem é a seguinte:\n",
    "    if fibo == var_num :\n",
    "        print(\"O número escolhido pertence à sequência de Fibonacci.\")\n",
    "        \n",
    "# Caso contrário, a mensagem é a seguinte:       \n",
    "if fibo != var_num :\n",
    "    print(\"O número escolhido não pertence à sequência de Fibonacci.\")\n"
   ]
  },
  {
   "cell_type": "code",
   "execution_count": null,
   "id": "828861b7-539e-4cb5-a668-3987dcf96c4b",
   "metadata": {},
   "outputs": [],
   "source": []
  }
 ],
 "metadata": {
  "kernelspec": {
   "display_name": "Python 3 (ipykernel)",
   "language": "python",
   "name": "python3"
  },
  "language_info": {
   "codemirror_mode": {
    "name": "ipython",
    "version": 3
   },
   "file_extension": ".py",
   "mimetype": "text/x-python",
   "name": "python",
   "nbconvert_exporter": "python",
   "pygments_lexer": "ipython3",
   "version": "3.9.12"
  }
 },
 "nbformat": 4,
 "nbformat_minor": 5
}
