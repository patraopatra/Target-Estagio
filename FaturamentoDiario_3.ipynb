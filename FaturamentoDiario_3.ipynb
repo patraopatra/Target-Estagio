{
 "cells": [
  {
   "cell_type": "code",
   "execution_count": 36,
   "id": "a68cc6e7-4b70-4ea0-bf51-d98c38245e23",
   "metadata": {},
   "outputs": [],
   "source": [
    "import json\n",
    "\n",
    "# Ler dados do .json\n",
    "with open(\"dados.json\", encoding='utf-8') as FaturamentoDiario:\n",
    "    dados = json.load(FaturamentoDiario)"
   ]
  },
  {
   "cell_type": "code",
   "execution_count": 37,
   "id": "e30ad8c4-a9b1-4099-86bf-84f2761afd72",
   "metadata": {},
   "outputs": [],
   "source": [
    "# Calculando a média e verificando o maior e menor faturamento\n",
    "soma = 0\n",
    "dias_zerofat = 0\n",
    "dias = 30\n",
    "menor_fat = 1000000\n",
    "maior_fat = 0\n",
    "dias_maiorfat = 0\n",
    "\n",
    "for i in dados:\n",
    "    if i[\"valor\"] == 0:\n",
    "        dias_zerofat = dias_zerofat + 1\n",
    "    else:\n",
    "        soma = soma + i[\"valor\"]\n",
    "        if i[\"valor\"] < menor_fat :\n",
    "            menor_fat = i[\"valor\"];\n",
    "        if i[\"valor\"] > maior_fat :\n",
    "            maior_fat = i[\"valor\"];\n",
    "        \n",
    "dias_totais = dias - dias_zerofat\n",
    "media = soma/dias_totais"
   ]
  },
  {
   "cell_type": "code",
   "execution_count": 38,
   "id": "82bb5a7f-469b-49b5-9448-aa8d8de4e789",
   "metadata": {},
   "outputs": [],
   "source": [
    "# Comparando a média com os valores diários\n",
    "for i in dados:\n",
    "    if i[\"valor\"] > media:\n",
    "        dias_maiorfat = dias_maiorfat + 1"
   ]
  },
  {
   "cell_type": "code",
   "execution_count": 39,
   "id": "7e59b05f-a7f0-4914-acd2-e5a69cb99749",
   "metadata": {},
   "outputs": [
    {
     "name": "stdout",
     "output_type": "stream",
     "text": [
      "Média: 20865.370166666664\n",
      "Menor faturamento: 373.7838\n",
      "Maior faturamento: 48924.2448\n",
      "Dias com o faturamento maior que a média: 10\n"
     ]
    }
   ],
   "source": [
    "# Resultados\n",
    "print(\"Média:\",media)\n",
    "print(\"Menor faturamento:\",menor_fat)\n",
    "print(\"Maior faturamento:\",maior_fat)\n",
    "print(\"Dias com o faturamento maior que a média:\",dias_maiorfat)"
   ]
  },
  {
   "cell_type": "code",
   "execution_count": null,
   "id": "d6af2e84-fc6c-46ba-b0b0-40ece98fefdb",
   "metadata": {},
   "outputs": [],
   "source": []
  }
 ],
 "metadata": {
  "kernelspec": {
   "display_name": "Python 3 (ipykernel)",
   "language": "python",
   "name": "python3"
  },
  "language_info": {
   "codemirror_mode": {
    "name": "ipython",
    "version": 3
   },
   "file_extension": ".py",
   "mimetype": "text/x-python",
   "name": "python",
   "nbconvert_exporter": "python",
   "pygments_lexer": "ipython3",
   "version": "3.9.12"
  }
 },
 "nbformat": 4,
 "nbformat_minor": 5
}
