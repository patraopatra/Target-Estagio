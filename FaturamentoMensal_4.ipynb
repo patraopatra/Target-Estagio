{
 "cells": [
  {
   "cell_type": "code",
   "execution_count": 1,
   "id": "f69a7399-efa6-444b-ab9f-8246ab08fa81",
   "metadata": {},
   "outputs": [],
   "source": [
    "# Definindo os valores\n",
    "sp = 67836.43\n",
    "rj = 36678.66\n",
    "mg = 29229.88\n",
    "es = 27165.48\n",
    "outros = 19849.53"
   ]
  },
  {
   "cell_type": "code",
   "execution_count": 2,
   "id": "37c836d9-1aad-48db-8613-813b60b0a85f",
   "metadata": {},
   "outputs": [
    {
     "name": "stdout",
     "output_type": "stream",
     "text": [
      "180759.98\n"
     ]
    }
   ],
   "source": [
    "# Calculando o valor total da renda mensal\n",
    "total = sp + rj + mg + es + outros\n",
    "print(total)"
   ]
  },
  {
   "cell_type": "code",
   "execution_count": 10,
   "id": "034aa650-12b4-4989-bfa3-51dfaf48772d",
   "metadata": {},
   "outputs": [],
   "source": [
    "# Calculando o percentual de cada um\n",
    "percentual_sp = (sp/total)*100\n",
    "percentual_rj = (rj/total)*100\n",
    "percentual_mg = (mg/total)*100\n",
    "percentual_es = (es/total)*100\n",
    "percentual_outros = (outros/total)*100"
   ]
  },
  {
   "cell_type": "code",
   "execution_count": 11,
   "id": "9f7d90be-821c-46d9-98cd-c9da0367c89b",
   "metadata": {},
   "outputs": [
    {
     "name": "stdout",
     "output_type": "stream",
     "text": [
      "Participação SP - 37.52845624346716 %\n",
      "Participação RJ - 20.291360952794975 %\n",
      "Participação MG - 16.170548370275323 %\n",
      "Participação ES - 15.028481414968068 %\n",
      "Participação Outros - 10.981153018494469 %\n"
     ]
    }
   ],
   "source": [
    "# Resultados\n",
    "print(\"Participação SP -\", percentual_sp, \"%\")\n",
    "print(\"Participação RJ -\", percentual_rj, \"%\")\n",
    "print(\"Participação MG -\", percentual_mg, \"%\")\n",
    "print(\"Participação ES -\", percentual_es, \"%\")\n",
    "print(\"Participação Outros -\", percentual_outros, \"%\")"
   ]
  },
  {
   "cell_type": "code",
   "execution_count": null,
   "id": "db3c67e8-5990-4721-b339-8e2c9b67ac36",
   "metadata": {},
   "outputs": [],
   "source": []
  }
 ],
 "metadata": {
  "kernelspec": {
   "display_name": "Python 3 (ipykernel)",
   "language": "python",
   "name": "python3"
  },
  "language_info": {
   "codemirror_mode": {
    "name": "ipython",
    "version": 3
   },
   "file_extension": ".py",
   "mimetype": "text/x-python",
   "name": "python",
   "nbconvert_exporter": "python",
   "pygments_lexer": "ipython3",
   "version": "3.9.12"
  }
 },
 "nbformat": 4,
 "nbformat_minor": 5
}
